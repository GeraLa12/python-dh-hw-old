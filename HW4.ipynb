{
 "cells": [
  {
   "cell_type": "code",
   "execution_count": 34,
   "metadata": {},
   "outputs": [
    {
     "name": "stdout",
     "output_type": "stream",
     "text": [
      "c\n",
      "f\n",
      "('a', 'v', 'c', 'd')\n",
      "('a', 'v', 'c', 'd', 'f')\n",
      "('a', 'c', 'f')\n",
      "('v', 'd', 'm')\n",
      "('m', 'f', 'd', 'c', 'v', 'a')\n",
      "('m', 'd', 'v')\n",
      "6\n"
     ]
    }
   ],
   "source": [
    "a=(\"a\", \"v\", \"c\", \"d\", \"f\", \"m\")\n",
    "len (a)\n",
    "print (a[2])\n",
    "\n",
    "#последний i-1\n",
    "# предпоследний \n",
    "print (a [-2])\n",
    "print (a [:-2])\n",
    "print (a [0:5])\n",
    "print (a[0 :len (a) :2]) #В пятой строке выведите все символы с четными индексами (считая, что индексация начинается с 0, поэтому символы выводятся начиная с первого).\n",
    "\n",
    "print (a [1: :2])  # В шестой строке выведите все символы с нечетными индексами, то есть начиная со второго символа строки.\n",
    "\n",
    "print (a [-1: : -1]) #шагаем назад. step = -1. \n",
    "\n",
    "print (a [-1: : -2])\n",
    "\n",
    "print (len (a))"
   ]
  },
  {
   "cell_type": "code",
   "execution_count": 30,
   "metadata": {},
   "outputs": [
    {
     "name": "stdout",
     "output_type": "stream",
     "text": [
      "мие\n"
     ]
    }
   ],
   "source": [
    "#Здаание: вывести символы с четвертого по двенадцатый включительно в обратном порядке с шагом 3.\n",
    "\n",
    "c = (\"абвгдежзиклмно\")\n",
    "print (c[11:2:-3]) #надо интервал указвать в обратную сторону тоже.Чтобы перевернуть спискок - делаем отрицательный шаг step= -x.\n",
    "# то есть список не переворачивается, а Питон его читает наоборот, начиная с последнего символа. \n",
    "# чтобы границу четырех сдвинуть - надо еще сдвинуть на -1. Он был 3, а надо 2. "
   ]
  },
  {
   "cell_type": "code",
   "execution_count": 31,
   "metadata": {
    "collapsed": true
   },
   "outputs": [],
   "source": [
    "# [i],[a:b], [a:b:step] a и b - индексы "
   ]
  },
  {
   "cell_type": "code",
   "execution_count": 41,
   "metadata": {},
   "outputs": [
    {
     "name": "stdout",
     "output_type": "stream",
     "text": [
      "Напишите слово: hfh\n",
      "Yes\n"
     ]
    }
   ],
   "source": [
    "a = input (\"Напишите слово: \")\n",
    "b = a [ : :-1]\n",
    "\n",
    "if a == b:\n",
    "    print (\"Yes\")\n",
    "else:\n",
    "    print (\"No\")"
   ]
  },
  {
   "cell_type": "code",
   "execution_count": null,
   "metadata": {
    "collapsed": true
   },
   "outputs": [],
   "source": [
    "# строку в число: c = int (input (\"введите число))"
   ]
  },
  {
   "cell_type": "code",
   "execution_count": 40,
   "metadata": {},
   "outputs": [
    {
     "name": "stdout",
     "output_type": "stream",
     "text": [
      "ghg\n",
      "['one', 'two', 'three', 'ghg']\n"
     ]
    },
    {
     "data": {
      "text/plain": [
       "4"
      ]
     },
     "execution_count": 40,
     "metadata": {},
     "output_type": "execute_result"
    }
   ],
   "source": [
    "my_list = ['one', 'two', 'three']\n",
    "elem = input()\n",
    "my_list.append(elem)\n",
    "print (my_list)\n",
    "len(my_list)"
   ]
  },
  {
   "cell_type": "code",
   "execution_count": 39,
   "metadata": {
    "collapsed": true
   },
   "outputs": [],
   "source": []
  },
  {
   "cell_type": "code",
   "execution_count": null,
   "metadata": {
    "collapsed": true
   },
   "outputs": [],
   "source": []
  }
 ],
 "metadata": {
  "kernelspec": {
   "display_name": "Python 3",
   "language": "python",
   "name": "python3"
  },
  "language_info": {
   "codemirror_mode": {
    "name": "ipython",
    "version": 3
   },
   "file_extension": ".py",
   "mimetype": "text/x-python",
   "name": "python",
   "nbconvert_exporter": "python",
   "pygments_lexer": "ipython3",
   "version": "3.6.3"
  }
 },
 "nbformat": 4,
 "nbformat_minor": 2
}
