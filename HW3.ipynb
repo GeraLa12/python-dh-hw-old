{
 "cells": [
  {
   "cell_type": "markdown",
   "metadata": {},
   "source": [
    "Задание 1"
   ]
  },
  {
   "cell_type": "code",
   "execution_count": 47,
   "metadata": {},
   "outputs": [
    {
     "name": "stdout",
     "output_type": "stream",
     "text": [
      "   _~_  \n",
      "  (o_o) \n",
      " /  V  \\ \n",
      "  /(  _  )\\ \n",
      "   ^^ ^^   \n"
     ]
    }
   ],
   "source": [
    "print (\"   _~_  \\n  (o_o) \\n /  V  \\\\ \\n  /(  _  )\\\\ \\n   ^^ ^^   \") "
   ]
  },
  {
   "cell_type": "code",
   "execution_count": 17,
   "metadata": {},
   "outputs": [
    {
     "ename": "SyntaxError",
     "evalue": "invalid syntax (<ipython-input-17-cdddbdbaa5b9>, line 1)",
     "output_type": "error",
     "traceback": [
      "\u001b[1;36m  File \u001b[1;32m\"<ipython-input-17-cdddbdbaa5b9>\"\u001b[1;36m, line \u001b[1;32m1\u001b[0m\n\u001b[1;33m    z=\u001b[0m\n\u001b[1;37m      ^\u001b[0m\n\u001b[1;31mSyntaxError\u001b[0m\u001b[1;31m:\u001b[0m invalid syntax\n"
     ]
    }
   ],
   "source": [
    "z="
   ]
  },
  {
   "cell_type": "code",
   "execution_count": 30,
   "metadata": {},
   "outputs": [
    {
     "name": "stdout",
     "output_type": "stream",
     "text": [
      "Введите число: 5\n",
      "Факториал числа 5 равен 120\n"
     ]
    }
   ],
   "source": [
    "number = int(input(\"Введите число: \"))\n",
    "factorial = 1\n",
    "for i in range(1, number+1):\n",
    "    factorial *= i\n",
    "print(\"Факториал числа\", number, \"равен\", factorial)"
   ]
  },
  {
   "cell_type": "code",
   "execution_count": 37,
   "metadata": {},
   "outputs": [
    {
     "name": "stdout",
     "output_type": "stream",
     "text": [
      "Введите число от 1 до 9: 4\n",
      "     _~_         _~_         _~_         _~_    \n",
      "    (o_o)       (o_o)       (o_o)       (o_o)   \n",
      "   /  V  \\     /  V  \\     /  V  \\     /  V  \\  \n",
      "  /(  _  )\\   /(  _  )\\   /(  _  )\\   /(  _  )\\ \n",
      "    ^^ ^^       ^^ ^^       ^^ ^^       ^^ ^^   \n"
     ]
    }
   ],
   "source": [
    "x=input(\"Введите число от 1 до 9: \")\n",
    "y=int(x)\n",
    "\n",
    "print (\"     _~_    \" * y)\n",
    "print (\"    (o_o)   \" * y)\n",
    "print (\"   /  V  \\\\  \" * y)\n",
    "print (\"  /(  _  )\\ \" * y)\n",
    "print (\"    ^^ ^^   \" * y)"
   ]
  },
  {
   "cell_type": "code",
   "execution_count": 58,
   "metadata": {},
   "outputs": [
    {
     "name": "stdout",
     "output_type": "stream",
     "text": [
      "\n",
      "     _~_     \n",
      "    (o_o)   \n",
      "   /  V  \\   \n",
      "  /(  _  )\\ \n",
      "    ^^ ^^  \n"
     ]
    }
   ],
   "source": [
    "penguin =  \"\"\"\n",
    "     _~_     \n",
    "    (o_o)   \n",
    "   /  V  \\   \n",
    "  /(  _  )\\ \n",
    "    ^^ ^^  \"\"\"\n",
    "\n",
    "print (penguin)"
   ]
  },
  {
   "cell_type": "code",
   "execution_count": 59,
   "metadata": {},
   "outputs": [
    {
     "name": "stdout",
     "output_type": "stream",
     "text": [
      "Введите число от 1 до 9: 4\n",
      "\n",
      "     _~_          _~_          _~_          _~_     \n",
      "    (o_o)       (o_o)       (o_o)       (o_o)   \n",
      "   /  V  \\      /  V  \\      /  V  \\      /  V  \\   \n",
      "  /(  _  )\\   /(  _  )\\   /(  _  )\\   /(  _  )\\ \n",
      "    ^^ ^^      ^^ ^^      ^^ ^^      ^^ ^^  \n"
     ]
    }
   ],
   "source": [
    "x=input(\"Введите число от 1 до 9: \")\n",
    "y=int(x)\n",
    "\n",
    "\n",
    "for line in penguin.split(\"\\n\"): # разделить по строчкам по символу переноса строки\n",
    "    print(line * y)\n",
    "    "
   ]
  },
  {
   "cell_type": "code",
   "execution_count": 54,
   "metadata": {},
   "outputs": [
    {
     "ename": "SyntaxError",
     "evalue": "invalid syntax (<ipython-input-54-5e4811dae806>, line 2)",
     "output_type": "error",
     "traceback": [
      "\u001b[1;36m  File \u001b[1;32m\"<ipython-input-54-5e4811dae806>\"\u001b[1;36m, line \u001b[1;32m2\u001b[0m\n\u001b[1;33m    count x\u001b[0m\n\u001b[1;37m          ^\u001b[0m\n\u001b[1;31mSyntaxError\u001b[0m\u001b[1;31m:\u001b[0m invalid syntax\n"
     ]
    }
   ],
   "source": [
    "# Пробелы отличают слова. После split ( ). Длина списка - len.  Строка x \n",
    "Print (len (x.split(\" \"))\n"
   ]
  },
  {
   "cell_type": "code",
   "execution_count": null,
   "metadata": {
    "collapsed": true
   },
   "outputs": [],
   "source": []
  }
 ],
 "metadata": {
  "kernelspec": {
   "display_name": "Python 3",
   "language": "python",
   "name": "python3"
  },
  "language_info": {
   "codemirror_mode": {
    "name": "ipython",
    "version": 3
   },
   "file_extension": ".py",
   "mimetype": "text/x-python",
   "name": "python",
   "nbconvert_exporter": "python",
   "pygments_lexer": "ipython3",
   "version": "3.6.3"
  }
 },
 "nbformat": 4,
 "nbformat_minor": 2
}
