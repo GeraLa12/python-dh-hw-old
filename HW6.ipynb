{
 "cells": [
  {
   "cell_type": "code",
   "execution_count": 5,
   "metadata": {},
   "outputs": [
    {
     "name": "stdout",
     "output_type": "stream",
     "text": [
      "['аб', 'бр', 'ра', 'ак', 'ка', 'ад', 'да', 'аб', 'бр', 'ра', 'аф', 'фо', 'ок', 'ку', 'ус', 'сп', 'по', 'ок', 'ку', 'ус', 'сд', 'де', 'ес', 'ся', 'ят', 'тк', 'ка', 'аз', 'за', 'ак', 'ку', 'ур', 'рс', 'сн', 'не', 'ем', 'ме', 'ед', 'дл', 'ле', 'ен', 'нн', 'но', 'оп', 'по', 'оя', 'яв', 'ви', 'ис', 'сь']\n"
     ]
    }
   ],
   "source": [
    "text = \"абракадабра фокус покус десятка за курс немедленно появись\"\n",
    "text1 = [c for c in text\n",
    "            if c != \" \"]\n",
    "text1 = \"\".join(text1)\n",
    "simbols = []\n",
    "for i in range (len(text1)-1):\n",
    "    b = text1[i]+text1[i+1]\n",
    "    simbols.append(b)\n",
    "print(simbols)"
   ]
  },
  {
   "cell_type": "code",
   "execution_count": 6,
   "metadata": {},
   "outputs": [
    {
     "name": "stdout",
     "output_type": "stream",
     "text": [
      "{'аб': 2, 'бр': 2, 'ра': 2, 'ак': 2, 'ка': 2, 'ад': 1, 'да': 1, 'аф': 1, 'фо': 1, 'ок': 2, 'ку': 3, 'ус': 2, 'сп': 1, 'по': 2, 'сд': 1, 'де': 1, 'ес': 1, 'ся': 1, 'ят': 1, 'тк': 1, 'аз': 1, 'за': 1, 'ур': 1, 'рс': 1, 'сн': 1, 'не': 1, 'ем': 1, 'ме': 1, 'ед': 1, 'дл': 1, 'ле': 1, 'ен': 1, 'нн': 1, 'но': 1, 'оп': 1, 'оя': 1, 'яв': 1, 'ви': 1, 'ис': 1, 'сь': 1}\n"
     ]
    }
   ],
   "source": [
    "d = {}\n",
    "for b in simbols:\n",
    "    if b in d:\n",
    "        d[b] +=1\n",
    "    else: \n",
    "        d[b]=1\n",
    "print (d)"
   ]
  },
  {
   "cell_type": "code",
   "execution_count": null,
   "metadata": {
    "collapsed": true
   },
   "outputs": [],
   "source": [
    "for i in range (len(text1)-1):\n",
    "    b = text1[i]+text1[i+1]\n",
    "    simbols.append(b)"
   ]
  },
  {
   "cell_type": "code",
   "execution_count": 12,
   "metadata": {},
   "outputs": [
    {
     "name": "stdout",
     "output_type": "stream",
     "text": [
      "Биграмма нн встретилась 1 раз\n"
     ]
    }
   ],
   "source": [
    "for k,v in d.items(): #чтобы преобразовать в то, что можно интерировать\n",
    "    if k[0]==k[1]:\n",
    "        print (\"Биграмма %s встретилась %s раз\" % (k,v))"
   ]
  }
 ],
 "metadata": {
  "kernelspec": {
   "display_name": "Python 3",
   "language": "python",
   "name": "python3"
  },
  "language_info": {
   "codemirror_mode": {
    "name": "ipython",
    "version": 3
   },
   "file_extension": ".py",
   "mimetype": "text/x-python",
   "name": "python",
   "nbconvert_exporter": "python",
   "pygments_lexer": "ipython3",
   "version": "3.6.3"
  }
 },
 "nbformat": 4,
 "nbformat_minor": 2
}
