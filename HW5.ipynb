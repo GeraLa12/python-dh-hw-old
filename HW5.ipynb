{
 "cells": [
  {
   "cell_type": "code",
   "execution_count": 2,
   "metadata": {},
   "outputs": [
    {
     "name": "stdout",
     "output_type": "stream",
     "text": [
      "Иро\n",
      "Введите телефон: 89173652411\n",
      "{'Ира': 89162730944, 'Миша': 89152487963, 'Ваня': 89176543213, 'Иро': 89173652411}\n"
     ]
    }
   ],
   "source": [
    "book = {\"Ира\": 89162730944, \"Миша\": 89152487963, \"Ваня\": 89176543213}\n",
    "def my_function(n, book):\n",
    "    if n in book:\n",
    "        return book [n]\n",
    "    else:\n",
    "        book [n] = int (input (\"Введите телефон: \"))\n",
    "        return book\n",
    "    return book\n",
    "print(my_function(input(), book))"
   ]
  },
  {
   "cell_type": "code",
   "execution_count": null,
   "metadata": {
    "collapsed": true
   },
   "outputs": [],
   "source": []
  }
 ],
 "metadata": {
  "kernelspec": {
   "display_name": "Python 3",
   "language": "python",
   "name": "python3"
  },
  "language_info": {
   "codemirror_mode": {
    "name": "ipython",
    "version": 3
   },
   "file_extension": ".py",
   "mimetype": "text/x-python",
   "name": "python",
   "nbconvert_exporter": "python",
   "pygments_lexer": "ipython3",
   "version": "3.6.3"
  }
 },
 "nbformat": 4,
 "nbformat_minor": 2
}
